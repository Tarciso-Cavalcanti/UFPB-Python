{
  "nbformat": 4,
  "nbformat_minor": 0,
  "metadata": {
    "colab": {
      "name": "Tarciso Cavalcanti - Lista de exercicios 2.ipynb",
      "provenance": [],
      "collapsed_sections": [],
      "include_colab_link": true
    },
    "kernelspec": {
      "name": "python3",
      "display_name": "Python 3"
    },
    "language_info": {
      "name": "python"
    }
  },
  "cells": [
    {
      "cell_type": "markdown",
      "metadata": {
        "id": "view-in-github",
        "colab_type": "text"
      },
      "source": [
        "<a href=\"https://colab.research.google.com/github/Tarciso-Cavalcanti/UFPB-Python/blob/main/Tarciso_Cavalcanti_Lista_de_exercicios_2.ipynb\" target=\"_parent\"><img src=\"https://colab.research.google.com/assets/colab-badge.svg\" alt=\"Open In Colab\"/></a>"
      ]
    },
    {
      "cell_type": "markdown",
      "source": [
        "#Segunda Unidade\n",
        "##2º Lista de exercícios \n",
        "\n",
        "Exercícios com base nas aulas do dia 16/05 e 20/05 e deverá ser enviado até segunda (23/05) antes da aula. Dessa maneira, vocês podem me enviar o link dessa lista respondida (lembrar de autorizar qualquer pessoa com link de visualizar) ou fazer o download do arquivo (Arquivo > Fazer download > Fazer download do .ibynb) e me enviar por e-mail. "
      ],
      "metadata": {
        "id": "55ErYTfbMWZx"
      }
    },
    {
      "cell_type": "code",
      "execution_count": null,
      "metadata": {
        "id": "RdhaWX7CL9Cs",
        "outputId": "3526ddab-06cc-403e-86cc-74c795ec2080",
        "colab": {
          "base_uri": "https://localhost:8080/"
        }
      },
      "outputs": [
        {
          "output_type": "stream",
          "name": "stdout",
          "text": [
            "Qual o dia da semana? Segunda\n",
            "Você precisa trabalhar!\n"
          ]
        }
      ],
      "source": [
        "# Exercício 1 - Crie uma estrutura que pergunte ao usuário qual o dia da semana. Se o dia for igual a Domingo ou igual a sábado, imprima na tela \"Hoje é dia de descanso\", caso contrário imprima na tela \"Você precisa trabalhar!\"\n",
        "x = str(input(\"Qual o dia da semana? \"))\n",
        "if x == \"Sábado\" or x == \"Domingo\":\n",
        "  print(\"Hoje é dia de descanso\")\n",
        "else:\n",
        "  print(\"Você precisa trabalhar!\")"
      ]
    },
    {
      "cell_type": "code",
      "source": [
        "# Exercício 2 - Imprima a sequência de números pares até 70 (de maneira automatizada)\n",
        "for i in range(1,70,2):\n",
        "  print(i+1)"
      ],
      "metadata": {
        "id": "6foai8ABMh5J",
        "outputId": "32c00270-f7bc-4f13-f420-bd8c2daff756",
        "colab": {
          "base_uri": "https://localhost:8080/"
        }
      },
      "execution_count": null,
      "outputs": [
        {
          "output_type": "stream",
          "name": "stdout",
          "text": [
            "2\n",
            "4\n",
            "6\n",
            "8\n",
            "10\n",
            "12\n",
            "14\n",
            "16\n",
            "18\n",
            "20\n",
            "22\n",
            "24\n",
            "26\n",
            "28\n",
            "30\n",
            "32\n",
            "34\n",
            "36\n",
            "38\n",
            "40\n",
            "42\n",
            "44\n",
            "46\n",
            "48\n",
            "50\n",
            "52\n",
            "54\n",
            "56\n",
            "58\n",
            "60\n",
            "62\n",
            "64\n",
            "66\n",
            "68\n",
            "70\n"
          ]
        }
      ]
    },
    {
      "cell_type": "code",
      "source": [
        "# Exercício 3 - Leia um numero fornecido pelo usuario. Se esse numero for positivo, calcule a raiz quadrada do numero. Se o numero for negativo, mostre uma mensagem dizendo que o numero é invalido\n",
        "x = float(input(\"Digite um número: \"))\n",
        "if x > 0:\n",
        "  print(\"Raíz quadrada igual a:\",x**(1/2))\n",
        "else:\n",
        "  print(\"Número inválido\")"
      ],
      "metadata": {
        "id": "YAu7pVMgQjhP",
        "outputId": "2b91790c-1bcb-49ca-cbc0-0835cd833737",
        "colab": {
          "base_uri": "https://localhost:8080/"
        }
      },
      "execution_count": null,
      "outputs": [
        {
          "output_type": "stream",
          "name": "stdout",
          "text": [
            "Digite um número: 100\n",
            "Raíz quadrada igual a: 10.0\n"
          ]
        }
      ]
    },
    {
      "cell_type": "code",
      "source": [
        "# Exercício 4 - Faça um programa que conte quantas vezes a letra \"e\" aparece na frase abaixo. \n",
        "# \"Receba! e o melhor do mundo! Graças a deus pai!\"\n",
        "print(\"Receba! e o melhor do mundo! Graças a deus pai!\".count('e'))\n"
      ],
      "metadata": {
        "id": "9zrwvBO4QuKn",
        "outputId": "06844d11-c4f5-4c29-f0ac-d21c18559ad4",
        "colab": {
          "base_uri": "https://localhost:8080/"
        }
      },
      "execution_count": null,
      "outputs": [
        {
          "output_type": "stream",
          "name": "stdout",
          "text": [
            "5\n"
          ]
        }
      ]
    },
    {
      "cell_type": "code",
      "source": [
        "# Exercício 5 - Faça um programa que receba um numero inteiro e verifique se este numero é par ou ımpar (imprima a resposta)\n",
        "x = int(input(\"Digite um número inteiro para saber se é par ou ímpar: \"))\n",
        "if x % 2 == 0:\n",
        "  print(\"Par\")\n",
        "else:\n",
        "  print(\"Ímpar\")"
      ],
      "metadata": {
        "id": "dOcAfeCXRCyN",
        "outputId": "960d7799-3f4d-4386-a7aa-b330c425f422",
        "colab": {
          "base_uri": "https://localhost:8080/"
        }
      },
      "execution_count": null,
      "outputs": [
        {
          "output_type": "stream",
          "name": "stdout",
          "text": [
            "Digite um número inteiro para saber se é par ou ímpar: 25\n",
            "Ímpar\n"
          ]
        }
      ]
    },
    {
      "cell_type": "code",
      "source": [
        "# Exercício 6 - Faça um programa que receba do usuario as seguintes informações: o salario e o valor da prestacao de um emprestimo. Se a prestação for maior que 20% do salário imprima: Empréstimo não concedido, caso contrario imprima: Empréstimo concedido\n",
        "x = float(input(\"O salário é igual a: \"))\n",
        "y = float(input(\"O valor da prestação é igual a: \"))\n",
        "if y > x * 0.2:\n",
        "  print(\"Empréstimo não concedido\")\n",
        "else:\n",
        "  print(\"Empréstimo concedido\")"
      ],
      "metadata": {
        "id": "BgiHb42sRUCx",
        "outputId": "80e4ed69-e52d-4d26-f73c-1c1aae04d4e6",
        "colab": {
          "base_uri": "https://localhost:8080/"
        }
      },
      "execution_count": null,
      "outputs": [
        {
          "output_type": "stream",
          "name": "stdout",
          "text": [
            "O salário é igual a: 10000\n",
            "O valor da prestação é igual a: 2300\n",
            "Empréstimo não concedido\n"
          ]
        }
      ]
    },
    {
      "cell_type": "code",
      "source": [
        "# Exercício 7 - Escreva um programa que não saia do loop enquanto o usuário não digitar corretamente a senha, além disso quando o usuário errar imprima a seguinte mensagem: \"dica de senha: campeão brasileiro em 1987\"\n",
        "senha = \"sport\"\n",
        "senha_digitada = str(input(\"Digite a senha: \"))\n",
        "\n",
        "while senha != senha_digitada:\n",
        "  print(\"dica de senha: campeão brasileiro em 1987\")\n",
        "  senha_digitada = str(input(\"Digite a senha: \"))\n",
        "\n",
        "print(\"Acertou ☺☻\")\n"
      ],
      "metadata": {
        "id": "IU9QamZpSVSn",
        "outputId": "e253a36a-2482-4959-a970-9c07fa53367e",
        "colab": {
          "base_uri": "https://localhost:8080/"
        }
      },
      "execution_count": null,
      "outputs": [
        {
          "output_type": "stream",
          "name": "stdout",
          "text": [
            "Digite a senha: lula livre\n",
            "dica de senha: campeão brasileiro em 1987\n",
            "Digite a senha: flalixo\n",
            "dica de senha: campeão brasileiro em 1987\n",
            "Digite a senha: sport\n",
            "Acertou ☺☻\n"
          ]
        }
      ]
    },
    {
      "cell_type": "code",
      "source": [
        "#Exercício 8 - Faça uma calculadora das quatro principais operações, na qual você pedirá ao usuário dois números e qual operação matemática será feita, com base nessas informações você deve imprimir a resposta.\n",
        "x = float(input(\"Digite o número 'a': \"))\n",
        "y = float(input(\"Digite o número 'b': \"))\n",
        "z = str(input(\"Qual operação você deseja fazer? Adição para a+b, Subtração para a-b; Multiplicação para a*b; Divisão para a/b: --> \"))\n",
        "if z == \"Adição\":\n",
        "  print(x+y)\n",
        "elif z ==\"Subtração\":\n",
        "  print(x-y)\n",
        "elif z ==\"Multiplicação\":\n",
        "  print(x*y)\n",
        "elif z ==\"Divisão\":\n",
        "  print(x/y)\n",
        "\n"
      ],
      "metadata": {
        "id": "HsfvqQQgMwIk",
        "outputId": "aa548e17-87d0-4c59-b6aa-ddb219427924",
        "colab": {
          "base_uri": "https://localhost:8080/"
        }
      },
      "execution_count": null,
      "outputs": [
        {
          "output_type": "stream",
          "name": "stdout",
          "text": [
            "Digite o número 'a': 10\n",
            "Digite o número 'b': 5\n",
            "Qual operação você deseja fazer? Adição para a+b, Subtração para a-b; Multiplicação para a*b; Divisão para a/b: --> Divisão\n",
            "2.0\n"
          ]
        }
      ]
    }
  ]
}