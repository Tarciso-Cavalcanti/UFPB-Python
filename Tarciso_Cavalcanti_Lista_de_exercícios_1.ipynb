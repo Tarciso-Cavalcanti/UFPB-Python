{
  "nbformat": 4,
  "nbformat_minor": 0,
  "metadata": {
    "colab": {
      "name": "Tarciso Cavalcanti - Lista de exercícios 1.ipynb",
      "provenance": [],
      "collapsed_sections": [],
      "include_colab_link": true
    },
    "kernelspec": {
      "name": "python3",
      "display_name": "Python 3"
    },
    "language_info": {
      "name": "python"
    }
  },
  "cells": [
    {
      "cell_type": "markdown",
      "metadata": {
        "id": "view-in-github",
        "colab_type": "text"
      },
      "source": [
        "<a href=\"https://colab.research.google.com/github/Tarciso-Cavalcanti/UFPB-Python/blob/main/Tarciso_Cavalcanti_Lista_de_exerc%C3%ADcios_1.ipynb\" target=\"_parent\"><img src=\"https://colab.research.google.com/assets/colab-badge.svg\" alt=\"Open In Colab\"/></a>"
      ]
    },
    {
      "cell_type": "markdown",
      "source": [
        "#Segunda Unidade\n",
        "##1º Lista de exercícios \n",
        "\n",
        "Exercícios com base na aula presencial do dia 09/05 e deverá ser enviado até domingo (15/05). Dessa maneira, vocês podem me enviar o link dessa lista respondida (lembrar de autorizar qualquer pessoa com link de visualizar) ou fazer o download do arquivo (Arquivo > Fazer download > Fazer download do .ibynb) e me enviar por e-mail. \n"
      ],
      "metadata": {
        "id": "nVoKMnfvI72n"
      }
    },
    {
      "cell_type": "code",
      "execution_count": null,
      "metadata": {
        "id": "ZDmoaSRsItAx",
        "outputId": "364136b5-7507-460d-b03c-67a98211e37b",
        "colab": {
          "base_uri": "https://localhost:8080/"
        }
      },
      "outputs": [
        {
          "output_type": "execute_result",
          "data": {
            "text/plain": [
              "[1, 2, 3, 4, 5, 6, 7, 8, 9, 10]"
            ]
          },
          "metadata": {},
          "execution_count": 1
        }
      ],
      "source": [
        "# Exercício 1 - Imprima na tela os números de 1 a 10. Use uma lista para armazenar os números.\n",
        "lista = [1,2,3,4,5,6,7,8,9,10]; lista"
      ]
    },
    {
      "cell_type": "code",
      "source": [
        "# Exercício 2 - Crie uma lista de 5 objetos e imprima na tela\n",
        "clubes = ['Liverpool','Real Madrid','Milan','PSG','Borussia']; clubes"
      ],
      "metadata": {
        "id": "RFab4ia4OU_I",
        "outputId": "0d44d145-a2fb-45c8-9410-3ae9b242885e",
        "colab": {
          "base_uri": "https://localhost:8080/"
        }
      },
      "execution_count": null,
      "outputs": [
        {
          "output_type": "execute_result",
          "data": {
            "text/plain": [
              "['Liverpool', 'Real Madrid', 'Milan', 'PSG', 'Borussia']"
            ]
          },
          "metadata": {},
          "execution_count": 2
        }
      ]
    },
    {
      "cell_type": "code",
      "source": [
        "# Exercício 3 - Crie duas strings e concatene as duas em uma terceira string (com um espaço entre elas)\n",
        "a='Bom ' ; b='dia!!' ; a+b"
      ],
      "metadata": {
        "id": "vDvKHdX_OZcI",
        "outputId": "5b737ccf-2efd-43f9-c99d-6c6693376c0e",
        "colab": {
          "base_uri": "https://localhost:8080/",
          "height": 35
        }
      },
      "execution_count": null,
      "outputs": [
        {
          "output_type": "execute_result",
          "data": {
            "text/plain": [
              "'Bom dia!!'"
            ],
            "application/vnd.google.colaboratory.intrinsic+json": {
              "type": "string"
            }
          },
          "metadata": {},
          "execution_count": 4
        }
      ]
    },
    {
      "cell_type": "code",
      "source": [
        "# Exercício 4 - Crie uma lista de 4 elementos. O primeiro elemento deve ser uma string, \n",
        "# o segundo um inteiro, o terceiro um float e quarto um booleano.\n",
        "# Imprima a lista na tela.\n",
        "lista2 = ['maçã',7,3.5,True]; lista2"
      ],
      "metadata": {
        "id": "QYTz08AqOfat",
        "outputId": "cc233258-323f-4579-fb20-63e660a12033",
        "colab": {
          "base_uri": "https://localhost:8080/"
        }
      },
      "execution_count": null,
      "outputs": [
        {
          "output_type": "execute_result",
          "data": {
            "text/plain": [
              "['maçã', 7, 3.5, True]"
            ]
          },
          "metadata": {},
          "execution_count": 5
        }
      ]
    },
    {
      "cell_type": "code",
      "source": [
        "# Exercício 5 - Considere a string abaixo. Imprima na tela apenas o nome \"atuaria\".\n",
        "curso = \"ciências atuariais\"\n",
        "curso[9:16]"
      ],
      "metadata": {
        "id": "mMX_QUOHOzPH",
        "outputId": "4c03ba9e-05fe-48b5-a2f7-1e29dcc883e7",
        "colab": {
          "base_uri": "https://localhost:8080/",
          "height": 35
        }
      },
      "execution_count": null,
      "outputs": [
        {
          "output_type": "execute_result",
          "data": {
            "text/plain": [
              "'atuaria'"
            ],
            "application/vnd.google.colaboratory.intrinsic+json": {
              "type": "string"
            }
          },
          "metadata": {},
          "execution_count": 9
        }
      ]
    },
    {
      "cell_type": "code",
      "source": [
        "# Exercício 6 - Crie uma variável tipo inteira e converta para tipo float.\n",
        "x=3.5; x_int = int(x); type(x_int)"
      ],
      "metadata": {
        "id": "SPnxIsk5PCKF",
        "outputId": "ed3a0f45-c88b-4852-b397-82d656a0d82f",
        "colab": {
          "base_uri": "https://localhost:8080/"
        }
      },
      "execution_count": null,
      "outputs": [
        {
          "output_type": "execute_result",
          "data": {
            "text/plain": [
              "int"
            ]
          },
          "metadata": {},
          "execution_count": 12
        }
      ]
    },
    {
      "cell_type": "code",
      "source": [
        "# Exercício 7 - Faça uma divisão retorando um número inteiro como resultado\n",
        "x=15//4; x"
      ],
      "metadata": {
        "id": "qIuT8G9SXbFg",
        "outputId": "81e6f06e-ce59-4157-cb53-7b369dd6ceeb",
        "colab": {
          "base_uri": "https://localhost:8080/"
        }
      },
      "execution_count": null,
      "outputs": [
        {
          "output_type": "execute_result",
          "data": {
            "text/plain": [
              "3"
            ]
          },
          "metadata": {},
          "execution_count": 18
        }
      ]
    },
    {
      "cell_type": "code",
      "source": [
        "# Exercício 8 - Imprima a frase \"Palmeiras não tem mundial\" cinco vezes, através de código e sem digitar mais de uma vez a frase. \n",
        "frase = 'Palmeiras não tem mundial\\n'; print(frase*5)"
      ],
      "metadata": {
        "id": "nPPJFNCePqVV",
        "outputId": "e4a8efd3-18a9-44f4-b3bd-1ce26e40043a",
        "colab": {
          "base_uri": "https://localhost:8080/"
        }
      },
      "execution_count": null,
      "outputs": [
        {
          "output_type": "stream",
          "name": "stdout",
          "text": [
            "Palmeiras não tem mundial\n",
            "Palmeiras não tem mundial\n",
            "Palmeiras não tem mundial\n",
            "Palmeiras não tem mundial\n",
            "Palmeiras não tem mundial\n",
            "\n"
          ]
        }
      ]
    },
    {
      "cell_type": "code",
      "source": [
        "# Exercício 9 - Crie cada uma das 5 classes de variaveis ensinadas e imprima o tipo da variavel (sem escrever o nome da variável).\n",
        "i = 7; ii = 3.5; iii = 'fruta'; iv = ['pera','maçã','uva']; v = True\n",
        "type(i), type(ii), type(iii), type(iv), type(v)"
      ],
      "metadata": {
        "id": "apbbPBGvTv5V",
        "outputId": "1203fa17-d94a-4ffb-c845-1edc34181d9d",
        "colab": {
          "base_uri": "https://localhost:8080/"
        }
      },
      "execution_count": null,
      "outputs": [
        {
          "output_type": "execute_result",
          "data": {
            "text/plain": [
              "(int, float, str, list, bool)"
            ]
          },
          "metadata": {},
          "execution_count": 27
        }
      ]
    },
    {
      "cell_type": "code",
      "source": [
        "# Exercício 10 - Dada a lista de compras abaixo, substitua maças por bananas \n",
        "listadomercado = [\"ovos\", \"farinha\", \"leite\", \"maças\"]\n",
        "listadomercado[3] = \"bananas\"; listadomercado\n"
      ],
      "metadata": {
        "id": "Wfp2TNc-QMC3",
        "outputId": "03a4651c-f98e-4a5d-b6c3-019918a8487f",
        "colab": {
          "base_uri": "https://localhost:8080/"
        }
      },
      "execution_count": null,
      "outputs": [
        {
          "output_type": "execute_result",
          "data": {
            "text/plain": [
              "['ovos', 'farinha', 'leite', 'bananas']"
            ]
          },
          "metadata": {},
          "execution_count": 28
        }
      ]
    },
    {
      "cell_type": "code",
      "source": [
        "# Exercício 11 - Print a lista de compras abaixo, sem o item \"ovos\" \n",
        "listadomercado = [\"ovos\", \"farinha\", \"leite\", \"maças\"]\n",
        "listadomercado.remove('ovos'); listadomercado"
      ],
      "metadata": {
        "id": "Kl_dEZhJS1P1",
        "outputId": "6c61901c-1df7-47d2-fe26-be187ff5a645",
        "colab": {
          "base_uri": "https://localhost:8080/"
        }
      },
      "execution_count": null,
      "outputs": [
        {
          "output_type": "execute_result",
          "data": {
            "text/plain": [
              "['farinha', 'leite', 'maças']"
            ]
          },
          "metadata": {},
          "execution_count": 29
        }
      ]
    },
    {
      "cell_type": "code",
      "source": [
        "# Exercício 12 - Dada a lista de compras abaixo, adicione cerveja, carne e carvão (#sextou) e imprima a nova lista.\n",
        "listadomercado = [\"ovos\", \"farinha\", \"leite\", \"maças\"]\n",
        "listadomercado.append('cerveja'); listadomercado.append('carne'); listadomercado.append('carvão'); listadomercado"
      ],
      "metadata": {
        "id": "Ysb9Hj1QSN5U",
        "outputId": "45c58997-3ff4-418d-9b7d-d482930569ed",
        "colab": {
          "base_uri": "https://localhost:8080/"
        }
      },
      "execution_count": null,
      "outputs": [
        {
          "output_type": "execute_result",
          "data": {
            "text/plain": [
              "['ovos', 'farinha', 'leite', 'maças', 'cerveja', 'carne', 'carvão']"
            ]
          },
          "metadata": {},
          "execution_count": 40
        }
      ]
    },
    {
      "cell_type": "code",
      "source": [
        "# Exercício 13 - Print a lista de compras abaixo, sem o item \"farinha\" \n",
        "listadomercado = [\"ovos\", \"farinha\", \"leite\", \"maças\"]\n",
        "listadomercado.remove('farinha'); listadomercado"
      ],
      "metadata": {
        "id": "143bXMzWTeVo",
        "outputId": "d1f264e3-20b9-47d4-de33-321c3a11cfe7",
        "colab": {
          "base_uri": "https://localhost:8080/"
        }
      },
      "execution_count": null,
      "outputs": [
        {
          "output_type": "execute_result",
          "data": {
            "text/plain": [
              "['ovos', 'leite', 'maças']"
            ]
          },
          "metadata": {},
          "execution_count": 35
        }
      ]
    },
    {
      "cell_type": "code",
      "source": [
        "# Exercício 14 - Arredonde a variável x para 1.\n",
        "x = 9 / 10\n",
        "round(x)"
      ],
      "metadata": {
        "id": "wNDwedAgX3AW",
        "outputId": "68ea2fe7-0a57-4842-c14c-bb00bfbe3d1e",
        "colab": {
          "base_uri": "https://localhost:8080/"
        }
      },
      "execution_count": null,
      "outputs": [
        {
          "output_type": "execute_result",
          "data": {
            "text/plain": [
              "1"
            ]
          },
          "metadata": {},
          "execution_count": 45
        }
      ]
    }
  ]
}